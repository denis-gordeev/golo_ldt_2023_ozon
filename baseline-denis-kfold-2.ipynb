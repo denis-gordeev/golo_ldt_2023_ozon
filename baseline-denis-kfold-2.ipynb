{
 "cells": [
  {
   "cell_type": "code",
   "execution_count": 1,
   "metadata": {},
   "outputs": [],
   "source": [
    "# !sudo apt install gcc -y\n",
    "\n",
    "# !pip install catboost\n",
    "# !pip install pandas\n",
    "# !pip install -U scikit-learn\n",
    "# !pip install seaborn\n",
    "# !pip install pyarrow\n",
    "# !pip install transformers\n",
    "# !pip install setfit\n",
    "# !pip install torch\n",
    "# !pip install xformers\n",
    "# !pip install py-stringmatching"
   ]
  },
  {
   "cell_type": "code",
   "execution_count": 2,
   "metadata": {},
   "outputs": [
    {
     "name": "stdout",
     "output_type": "stream",
     "text": [
      "Tue May 30 18:01:03 2023       \n",
      "+-----------------------------------------------------------------------------+\n",
      "| NVIDIA-SMI 525.105.17   Driver Version: 525.105.17   CUDA Version: 12.0     |\n",
      "|-------------------------------+----------------------+----------------------+\n",
      "| GPU  Name        Persistence-M| Bus-Id        Disp.A | Volatile Uncorr. ECC |\n",
      "| Fan  Temp  Perf  Pwr:Usage/Cap|         Memory-Usage | GPU-Util  Compute M. |\n",
      "|                               |                      |               MIG M. |\n",
      "|===============================+======================+======================|\n",
      "|   0  NVIDIA GeForce ...  On   | 00000000:01:00.0 Off |                  N/A |\n",
      "|  0%   54C    P8    14W / 170W |      1MiB / 12288MiB |      0%      Default |\n",
      "|                               |                      |                  N/A |\n",
      "+-------------------------------+----------------------+----------------------+\n",
      "                                                                               \n",
      "+-----------------------------------------------------------------------------+\n",
      "| Processes:                                                                  |\n",
      "|  GPU   GI   CI        PID   Type   Process name                  GPU Memory |\n",
      "|        ID   ID                                                   Usage      |\n",
      "|=============================================================================|\n",
      "|  No running processes found                                                 |\n",
      "+-----------------------------------------------------------------------------+\n"
     ]
    }
   ],
   "source": [
    "!nvidia-smi"
   ]
  },
  {
   "cell_type": "code",
   "execution_count": 3,
   "metadata": {
    "ExecuteTime": {
     "end_time": "2023-05-19T06:10:23.678400Z",
     "start_time": "2023-05-19T06:10:16.503064Z"
    }
   },
   "outputs": [],
   "source": [
    "import json\n",
    "from functools import partial\n",
    "from typing import List\n",
    "\n",
    "import matplotlib.pyplot as plt\n",
    "import numpy as np\n",
    "import pandas as pd\n",
    "import seaborn as sns\n",
    "from catboost import CatBoostClassifier, Pool\n",
    "from catboost.utils import eval_metric\n",
    "from scipy.spatial.distance import cosine, euclidean\n",
    "from sklearn.metrics import pairwise_distances\n",
    "from sklearn.model_selection import train_test_split\n",
    "\n",
    "from transformers import pipeline\n",
    "\n",
    "from sklearn.model_selection import KFold"
   ]
  },
  {
   "cell_type": "code",
   "execution_count": 4,
   "metadata": {},
   "outputs": [
    {
     "data": {
      "text/html": [
       "<div>\n",
       "<style scoped>\n",
       "    .dataframe tbody tr th:only-of-type {\n",
       "        vertical-align: middle;\n",
       "    }\n",
       "\n",
       "    .dataframe tbody tr th {\n",
       "        vertical-align: top;\n",
       "    }\n",
       "\n",
       "    .dataframe thead th {\n",
       "        text-align: right;\n",
       "    }\n",
       "</style>\n",
       "<table border=\"1\" class=\"dataframe\">\n",
       "  <thead>\n",
       "    <tr style=\"text-align: right;\">\n",
       "      <th></th>\n",
       "      <th>target</th>\n",
       "      <th>variantid1</th>\n",
       "      <th>variantid2</th>\n",
       "      <th>name1</th>\n",
       "      <th>categories1</th>\n",
       "      <th>color_parsed1</th>\n",
       "      <th>pic_embeddings_resnet_v11</th>\n",
       "      <th>main_pic_embeddings_resnet_v11</th>\n",
       "      <th>name_bert_641</th>\n",
       "      <th>characteristic_attributes_mapping1</th>\n",
       "      <th>...</th>\n",
       "      <th>cat3_grouped</th>\n",
       "      <th>text</th>\n",
       "      <th>deberta_label_0</th>\n",
       "      <th>deberta_score_0</th>\n",
       "      <th>deberta_label_1</th>\n",
       "      <th>deberta_score_1</th>\n",
       "      <th>deberta_label_2</th>\n",
       "      <th>deberta_score_2</th>\n",
       "      <th>deberta_label_4</th>\n",
       "      <th>deberta_score_4</th>\n",
       "    </tr>\n",
       "  </thead>\n",
       "  <tbody>\n",
       "    <tr>\n",
       "      <th>0</th>\n",
       "      <td>0.0</td>\n",
       "      <td>51197862</td>\n",
       "      <td>51198054</td>\n",
       "      <td>Удлинитель TDM Electric Люкс УЛ05В 5 м (SQ1303...</td>\n",
       "      <td>{\"1\": \"EPG\", \"2\": \"Электроника\", \"3\": \"Сетевые...</td>\n",
       "      <td>[белый]</td>\n",
       "      <td>None</td>\n",
       "      <td>[[-0.4304909, -0.49474272, -0.46439183, -0.060...</td>\n",
       "      <td>[-0.5104684, 0.56158644, 0.58873796, -0.529718...</td>\n",
       "      <td>{\"Число жил\":[\"3\"],\"Макс. нагрузка, Вт\":[\"3500...</td>\n",
       "      <td>...</td>\n",
       "      <td>Сетевые фильтры, разветвители и удлинители</td>\n",
       "      <td>Удлинитель TDM Electric Люкс УЛ05В 5 м (SQ1303...</td>\n",
       "      <td>0</td>\n",
       "      <td>0.97</td>\n",
       "      <td>0</td>\n",
       "      <td>0.97</td>\n",
       "      <td>0</td>\n",
       "      <td>0.97</td>\n",
       "      <td>0</td>\n",
       "      <td>0.97</td>\n",
       "    </tr>\n",
       "    <tr>\n",
       "      <th>1</th>\n",
       "      <td>0.0</td>\n",
       "      <td>51197862</td>\n",
       "      <td>51199884</td>\n",
       "      <td>Удлинитель TDM Electric Люкс УЛ05В 5 м (SQ1303...</td>\n",
       "      <td>{\"1\": \"EPG\", \"2\": \"Электроника\", \"3\": \"Сетевые...</td>\n",
       "      <td>[белый]</td>\n",
       "      <td>None</td>\n",
       "      <td>[[-0.4304909, -0.49474272, -0.46439183, -0.060...</td>\n",
       "      <td>[-0.5104684, 0.56158644, 0.58873796, -0.529718...</td>\n",
       "      <td>{\"Число жил\":[\"3\"],\"Макс. нагрузка, Вт\":[\"3500...</td>\n",
       "      <td>...</td>\n",
       "      <td>Сетевые фильтры, разветвители и удлинители</td>\n",
       "      <td>Удлинитель TDM Electric Люкс УЛ05В 5 м (SQ1303...</td>\n",
       "      <td>0</td>\n",
       "      <td>0.97</td>\n",
       "      <td>0</td>\n",
       "      <td>0.97</td>\n",
       "      <td>0</td>\n",
       "      <td>0.97</td>\n",
       "      <td>0</td>\n",
       "      <td>0.97</td>\n",
       "    </tr>\n",
       "    <tr>\n",
       "      <th>2</th>\n",
       "      <td>1.0</td>\n",
       "      <td>53062686</td>\n",
       "      <td>536165289</td>\n",
       "      <td>Картридж лазерный Комус 729 (4370B002) черный ...</td>\n",
       "      <td>{\"1\": \"EPG\", \"2\": \"Электроника\", \"3\": \"Расходн...</td>\n",
       "      <td>[черный, чер]</td>\n",
       "      <td>None</td>\n",
       "      <td>[[-0.0032773763, 0.32531193, -0.33156675, 0.41...</td>\n",
       "      <td>[-0.53706163, 0.37264067, 0.44363657, -0.37289...</td>\n",
       "      <td>{\"Количество в упаковке, шт\":[\"1\"],\"Бренд\":[\"К...</td>\n",
       "      <td>...</td>\n",
       "      <td>Расходник для печати</td>\n",
       "      <td>Картридж лазерный Комус 729 (4370B002) черный ...</td>\n",
       "      <td>0</td>\n",
       "      <td>0.79</td>\n",
       "      <td>0</td>\n",
       "      <td>0.86</td>\n",
       "      <td>0</td>\n",
       "      <td>0.83</td>\n",
       "      <td>0</td>\n",
       "      <td>0.74</td>\n",
       "    </tr>\n",
       "    <tr>\n",
       "      <th>3</th>\n",
       "      <td>1.0</td>\n",
       "      <td>53602615</td>\n",
       "      <td>587809782</td>\n",
       "      <td>Картридж лазерный Комус 729 (4368B002) пурпурн...</td>\n",
       "      <td>{\"1\": \"EPG\", \"2\": \"Электроника\", \"3\": \"Расходн...</td>\n",
       "      <td>[пурпурный]</td>\n",
       "      <td>None</td>\n",
       "      <td>[[0.027616128, 0.33428708, -0.37326592, 0.4108...</td>\n",
       "      <td>[-0.61162275, 0.4953002, 0.47400212, -0.429568...</td>\n",
       "      <td>{\"Назначение\":[\"для лазерного принтера\"],\"Совм...</td>\n",
       "      <td>...</td>\n",
       "      <td>Расходник для печати</td>\n",
       "      <td>Картридж лазерный Комус 729 (4368B002) пурпурн...</td>\n",
       "      <td>0</td>\n",
       "      <td>0.81</td>\n",
       "      <td>0</td>\n",
       "      <td>0.84</td>\n",
       "      <td>0</td>\n",
       "      <td>0.82</td>\n",
       "      <td>0</td>\n",
       "      <td>0.80</td>\n",
       "    </tr>\n",
       "    <tr>\n",
       "      <th>4</th>\n",
       "      <td>1.0</td>\n",
       "      <td>53602615</td>\n",
       "      <td>615149925</td>\n",
       "      <td>Картридж лазерный Комус 729 (4368B002) пурпурн...</td>\n",
       "      <td>{\"1\": \"EPG\", \"2\": \"Электроника\", \"3\": \"Расходн...</td>\n",
       "      <td>[пурпурный]</td>\n",
       "      <td>None</td>\n",
       "      <td>[[0.027616128, 0.33428708, -0.37326592, 0.4108...</td>\n",
       "      <td>[-0.61162275, 0.4953002, 0.47400212, -0.429568...</td>\n",
       "      <td>{\"Назначение\":[\"для лазерного принтера\"],\"Совм...</td>\n",
       "      <td>...</td>\n",
       "      <td>Расходник для печати</td>\n",
       "      <td>Картридж лазерный Комус 729 (4368B002) пурпурн...</td>\n",
       "      <td>1</td>\n",
       "      <td>0.94</td>\n",
       "      <td>1</td>\n",
       "      <td>0.94</td>\n",
       "      <td>1</td>\n",
       "      <td>0.95</td>\n",
       "      <td>1</td>\n",
       "      <td>0.96</td>\n",
       "    </tr>\n",
       "    <tr>\n",
       "      <th>...</th>\n",
       "      <td>...</td>\n",
       "      <td>...</td>\n",
       "      <td>...</td>\n",
       "      <td>...</td>\n",
       "      <td>...</td>\n",
       "      <td>...</td>\n",
       "      <td>...</td>\n",
       "      <td>...</td>\n",
       "      <td>...</td>\n",
       "      <td>...</td>\n",
       "      <td>...</td>\n",
       "      <td>...</td>\n",
       "      <td>...</td>\n",
       "      <td>...</td>\n",
       "      <td>...</td>\n",
       "      <td>...</td>\n",
       "      <td>...</td>\n",
       "      <td>...</td>\n",
       "      <td>...</td>\n",
       "      <td>...</td>\n",
       "      <td>...</td>\n",
       "    </tr>\n",
       "    <tr>\n",
       "      <th>306535</th>\n",
       "      <td>0.0</td>\n",
       "      <td>810680230</td>\n",
       "      <td>820119986</td>\n",
       "      <td>Комплект 4 шт, Картридж лазерный NV Print 4072...</td>\n",
       "      <td>{\"1\": \"EPG\", \"2\": \"Электроника\", \"3\": \"Расходн...</td>\n",
       "      <td>[черный]</td>\n",
       "      <td>None</td>\n",
       "      <td>[[-0.0944288, 0.8932959, 0.25614977, -0.191978...</td>\n",
       "      <td>[-0.6026151, 0.3903093, 0.74605453, -0.6013487...</td>\n",
       "      <td>{\"Емкость\":[\"Стандартная\"],\"Совместимые модели...</td>\n",
       "      <td>...</td>\n",
       "      <td>Расходник для печати</td>\n",
       "      <td>Комплект 4 шт, Картридж лазерный NV Print 4072...</td>\n",
       "      <td>0</td>\n",
       "      <td>0.97</td>\n",
       "      <td>0</td>\n",
       "      <td>0.97</td>\n",
       "      <td>0</td>\n",
       "      <td>0.96</td>\n",
       "      <td>0</td>\n",
       "      <td>0.97</td>\n",
       "    </tr>\n",
       "    <tr>\n",
       "      <th>306536</th>\n",
       "      <td>0.0</td>\n",
       "      <td>812434186</td>\n",
       "      <td>815345877</td>\n",
       "      <td>Для iPhone 7 плюс 8 плюс военная броня гибридн...</td>\n",
       "      <td>{\"1\": \"EPG\", \"2\": \"Электроника\", \"3\": \"Чехол\",...</td>\n",
       "      <td>[желтый]</td>\n",
       "      <td>[[0.28905904, -2.2125282, -0.51811993, 0.59951...</td>\n",
       "      <td>[[0.17367405, -1.9180702, -0.3562176, 1.175615...</td>\n",
       "      <td>[-0.73866224, 0.50003415, 0.38444322, -0.50629...</td>\n",
       "      <td>{\"Вид чехла\":[\"Обложка\"],\"Рекомендовано для\":[...</td>\n",
       "      <td>...</td>\n",
       "      <td>Чехол</td>\n",
       "      <td>Для iPhone 7 плюс 8 плюс военная броня гибридн...</td>\n",
       "      <td>1</td>\n",
       "      <td>0.50</td>\n",
       "      <td>0</td>\n",
       "      <td>0.87</td>\n",
       "      <td>0</td>\n",
       "      <td>0.52</td>\n",
       "      <td>1</td>\n",
       "      <td>0.65</td>\n",
       "    </tr>\n",
       "    <tr>\n",
       "      <th>306537</th>\n",
       "      <td>0.0</td>\n",
       "      <td>815637954</td>\n",
       "      <td>817550808</td>\n",
       "      <td>Карта памяти 64 ГБ</td>\n",
       "      <td>{\"1\": \"EPG\", \"2\": \"Электроника\", \"3\": \"Карты п...</td>\n",
       "      <td>None</td>\n",
       "      <td>[[0.025763443, 0.29543704, -0.41198447, 0.1375...</td>\n",
       "      <td>[[0.19128616, 0.530021, 0.57061875, 0.59129846...</td>\n",
       "      <td>[-0.41885406, 0.4686782, 0.48758537, -0.452275...</td>\n",
       "      <td>{\"Материал корпуса\":[\"ABS пластик\"],\"Тип карты...</td>\n",
       "      <td>...</td>\n",
       "      <td>Карты памяти и флешки</td>\n",
       "      <td>Карта памяти 64 ГБ[SEP]Карта памяти 1 ТБ</td>\n",
       "      <td>0</td>\n",
       "      <td>0.97</td>\n",
       "      <td>0</td>\n",
       "      <td>0.97</td>\n",
       "      <td>0</td>\n",
       "      <td>0.98</td>\n",
       "      <td>0</td>\n",
       "      <td>0.98</td>\n",
       "    </tr>\n",
       "    <tr>\n",
       "      <th>306538</th>\n",
       "      <td>0.0</td>\n",
       "      <td>817327230</td>\n",
       "      <td>822083612</td>\n",
       "      <td>Смартфон Mate48 Pro.. 8/256 ГБ, зеленый</td>\n",
       "      <td>{\"1\": \"EPG\", \"2\": \"Электроника\", \"3\": \"Смартфо...</td>\n",
       "      <td>[зеленый]</td>\n",
       "      <td>[[-0.15069294, -0.015367113, 0.45699638, -0.61...</td>\n",
       "      <td>[[0.12376598, -0.56147766, 0.8182319, 0.356286...</td>\n",
       "      <td>[-0.6552933, 0.43776116, 0.61501455, -0.564846...</td>\n",
       "      <td>{\"Встроенные датчики\":[\"Датчик распознавания л...</td>\n",
       "      <td>...</td>\n",
       "      <td>Смартфоны, планшеты, мобильные телефоны</td>\n",
       "      <td>Смартфон Mate48 Pro.. 8/256 ГБ, зеленый[SEP]См...</td>\n",
       "      <td>0</td>\n",
       "      <td>0.97</td>\n",
       "      <td>0</td>\n",
       "      <td>0.98</td>\n",
       "      <td>0</td>\n",
       "      <td>0.98</td>\n",
       "      <td>0</td>\n",
       "      <td>0.98</td>\n",
       "    </tr>\n",
       "    <tr>\n",
       "      <th>306539</th>\n",
       "      <td>0.0</td>\n",
       "      <td>821514120</td>\n",
       "      <td>821514311</td>\n",
       "      <td>Ноутбук, Игровой ноутбук Windows BJBDN8, Inte...</td>\n",
       "      <td>{\"1\": \"EPG\", \"2\": \"Электроника\", \"3\": \"Компьют...</td>\n",
       "      <td>[розовый]</td>\n",
       "      <td>[[-0.33563668, 1.1432984, 0.039845727, -0.0763...</td>\n",
       "      <td>[[-0.26219797, 0.037226506, -0.33920017, 0.050...</td>\n",
       "      <td>[-0.353611, 0.60621214, 0.5412315, -0.52889967...</td>\n",
       "      <td>{\"Число портов USB 3.2 Gen 1\":[\"1\"],\"Вид оптич...</td>\n",
       "      <td>...</td>\n",
       "      <td>Компьютер</td>\n",
       "      <td>Ноутбук, Игровой ноутбук Windows BJBDN8, Inte...</td>\n",
       "      <td>1</td>\n",
       "      <td>0.66</td>\n",
       "      <td>1</td>\n",
       "      <td>0.56</td>\n",
       "      <td>1</td>\n",
       "      <td>0.57</td>\n",
       "      <td>0</td>\n",
       "      <td>0.86</td>\n",
       "    </tr>\n",
       "  </tbody>\n",
       "</table>\n",
       "<p>306540 rows × 33 columns</p>\n",
       "</div>"
      ],
      "text/plain": [
       "        target  variantid1  variantid2   \n",
       "0          0.0    51197862    51198054  \\\n",
       "1          0.0    51197862    51199884   \n",
       "2          1.0    53062686   536165289   \n",
       "3          1.0    53602615   587809782   \n",
       "4          1.0    53602615   615149925   \n",
       "...        ...         ...         ...   \n",
       "306535     0.0   810680230   820119986   \n",
       "306536     0.0   812434186   815345877   \n",
       "306537     0.0   815637954   817550808   \n",
       "306538     0.0   817327230   822083612   \n",
       "306539     0.0   821514120   821514311   \n",
       "\n",
       "                                                    name1   \n",
       "0       Удлинитель TDM Electric Люкс УЛ05В 5 м (SQ1303...  \\\n",
       "1       Удлинитель TDM Electric Люкс УЛ05В 5 м (SQ1303...   \n",
       "2       Картридж лазерный Комус 729 (4370B002) черный ...   \n",
       "3       Картридж лазерный Комус 729 (4368B002) пурпурн...   \n",
       "4       Картридж лазерный Комус 729 (4368B002) пурпурн...   \n",
       "...                                                   ...   \n",
       "306535  Комплект 4 шт, Картридж лазерный NV Print 4072...   \n",
       "306536  Для iPhone 7 плюс 8 плюс военная броня гибридн...   \n",
       "306537                                 Карта памяти 64 ГБ   \n",
       "306538            Смартфон Mate48 Pro.. 8/256 ГБ, зеленый   \n",
       "306539   Ноутбук, Игровой ноутбук Windows BJBDN8, Inte...   \n",
       "\n",
       "                                              categories1  color_parsed1   \n",
       "0       {\"1\": \"EPG\", \"2\": \"Электроника\", \"3\": \"Сетевые...        [белый]  \\\n",
       "1       {\"1\": \"EPG\", \"2\": \"Электроника\", \"3\": \"Сетевые...        [белый]   \n",
       "2       {\"1\": \"EPG\", \"2\": \"Электроника\", \"3\": \"Расходн...  [черный, чер]   \n",
       "3       {\"1\": \"EPG\", \"2\": \"Электроника\", \"3\": \"Расходн...    [пурпурный]   \n",
       "4       {\"1\": \"EPG\", \"2\": \"Электроника\", \"3\": \"Расходн...    [пурпурный]   \n",
       "...                                                   ...            ...   \n",
       "306535  {\"1\": \"EPG\", \"2\": \"Электроника\", \"3\": \"Расходн...       [черный]   \n",
       "306536  {\"1\": \"EPG\", \"2\": \"Электроника\", \"3\": \"Чехол\",...       [желтый]   \n",
       "306537  {\"1\": \"EPG\", \"2\": \"Электроника\", \"3\": \"Карты п...           None   \n",
       "306538  {\"1\": \"EPG\", \"2\": \"Электроника\", \"3\": \"Смартфо...      [зеленый]   \n",
       "306539  {\"1\": \"EPG\", \"2\": \"Электроника\", \"3\": \"Компьют...      [розовый]   \n",
       "\n",
       "                                pic_embeddings_resnet_v11   \n",
       "0                                                    None  \\\n",
       "1                                                    None   \n",
       "2                                                    None   \n",
       "3                                                    None   \n",
       "4                                                    None   \n",
       "...                                                   ...   \n",
       "306535                                               None   \n",
       "306536  [[0.28905904, -2.2125282, -0.51811993, 0.59951...   \n",
       "306537  [[0.025763443, 0.29543704, -0.41198447, 0.1375...   \n",
       "306538  [[-0.15069294, -0.015367113, 0.45699638, -0.61...   \n",
       "306539  [[-0.33563668, 1.1432984, 0.039845727, -0.0763...   \n",
       "\n",
       "                           main_pic_embeddings_resnet_v11   \n",
       "0       [[-0.4304909, -0.49474272, -0.46439183, -0.060...  \\\n",
       "1       [[-0.4304909, -0.49474272, -0.46439183, -0.060...   \n",
       "2       [[-0.0032773763, 0.32531193, -0.33156675, 0.41...   \n",
       "3       [[0.027616128, 0.33428708, -0.37326592, 0.4108...   \n",
       "4       [[0.027616128, 0.33428708, -0.37326592, 0.4108...   \n",
       "...                                                   ...   \n",
       "306535  [[-0.0944288, 0.8932959, 0.25614977, -0.191978...   \n",
       "306536  [[0.17367405, -1.9180702, -0.3562176, 1.175615...   \n",
       "306537  [[0.19128616, 0.530021, 0.57061875, 0.59129846...   \n",
       "306538  [[0.12376598, -0.56147766, 0.8182319, 0.356286...   \n",
       "306539  [[-0.26219797, 0.037226506, -0.33920017, 0.050...   \n",
       "\n",
       "                                            name_bert_641   \n",
       "0       [-0.5104684, 0.56158644, 0.58873796, -0.529718...  \\\n",
       "1       [-0.5104684, 0.56158644, 0.58873796, -0.529718...   \n",
       "2       [-0.53706163, 0.37264067, 0.44363657, -0.37289...   \n",
       "3       [-0.61162275, 0.4953002, 0.47400212, -0.429568...   \n",
       "4       [-0.61162275, 0.4953002, 0.47400212, -0.429568...   \n",
       "...                                                   ...   \n",
       "306535  [-0.6026151, 0.3903093, 0.74605453, -0.6013487...   \n",
       "306536  [-0.73866224, 0.50003415, 0.38444322, -0.50629...   \n",
       "306537  [-0.41885406, 0.4686782, 0.48758537, -0.452275...   \n",
       "306538  [-0.6552933, 0.43776116, 0.61501455, -0.564846...   \n",
       "306539  [-0.353611, 0.60621214, 0.5412315, -0.52889967...   \n",
       "\n",
       "                       characteristic_attributes_mapping1  ...   \n",
       "0       {\"Число жил\":[\"3\"],\"Макс. нагрузка, Вт\":[\"3500...  ...  \\\n",
       "1       {\"Число жил\":[\"3\"],\"Макс. нагрузка, Вт\":[\"3500...  ...   \n",
       "2       {\"Количество в упаковке, шт\":[\"1\"],\"Бренд\":[\"К...  ...   \n",
       "3       {\"Назначение\":[\"для лазерного принтера\"],\"Совм...  ...   \n",
       "4       {\"Назначение\":[\"для лазерного принтера\"],\"Совм...  ...   \n",
       "...                                                   ...  ...   \n",
       "306535  {\"Емкость\":[\"Стандартная\"],\"Совместимые модели...  ...   \n",
       "306536  {\"Вид чехла\":[\"Обложка\"],\"Рекомендовано для\":[...  ...   \n",
       "306537  {\"Материал корпуса\":[\"ABS пластик\"],\"Тип карты...  ...   \n",
       "306538  {\"Встроенные датчики\":[\"Датчик распознавания л...  ...   \n",
       "306539  {\"Число портов USB 3.2 Gen 1\":[\"1\"],\"Вид оптич...  ...   \n",
       "\n",
       "                                      cat3_grouped   \n",
       "0       Сетевые фильтры, разветвители и удлинители  \\\n",
       "1       Сетевые фильтры, разветвители и удлинители   \n",
       "2                             Расходник для печати   \n",
       "3                             Расходник для печати   \n",
       "4                             Расходник для печати   \n",
       "...                                            ...   \n",
       "306535                        Расходник для печати   \n",
       "306536                                       Чехол   \n",
       "306537                       Карты памяти и флешки   \n",
       "306538     Смартфоны, планшеты, мобильные телефоны   \n",
       "306539                                   Компьютер   \n",
       "\n",
       "                                                     text deberta_label_0   \n",
       "0       Удлинитель TDM Electric Люкс УЛ05В 5 м (SQ1303...               0  \\\n",
       "1       Удлинитель TDM Electric Люкс УЛ05В 5 м (SQ1303...               0   \n",
       "2       Картридж лазерный Комус 729 (4370B002) черный ...               0   \n",
       "3       Картридж лазерный Комус 729 (4368B002) пурпурн...               0   \n",
       "4       Картридж лазерный Комус 729 (4368B002) пурпурн...               1   \n",
       "...                                                   ...             ...   \n",
       "306535  Комплект 4 шт, Картридж лазерный NV Print 4072...               0   \n",
       "306536  Для iPhone 7 плюс 8 плюс военная броня гибридн...               1   \n",
       "306537           Карта памяти 64 ГБ[SEP]Карта памяти 1 ТБ               0   \n",
       "306538  Смартфон Mate48 Pro.. 8/256 ГБ, зеленый[SEP]См...               0   \n",
       "306539   Ноутбук, Игровой ноутбук Windows BJBDN8, Inte...               1   \n",
       "\n",
       "       deberta_score_0 deberta_label_1 deberta_score_1 deberta_label_2   \n",
       "0                 0.97               0            0.97               0  \\\n",
       "1                 0.97               0            0.97               0   \n",
       "2                 0.79               0            0.86               0   \n",
       "3                 0.81               0            0.84               0   \n",
       "4                 0.94               1            0.94               1   \n",
       "...                ...             ...             ...             ...   \n",
       "306535            0.97               0            0.97               0   \n",
       "306536            0.50               0            0.87               0   \n",
       "306537            0.97               0            0.97               0   \n",
       "306538            0.97               0            0.98               0   \n",
       "306539            0.66               1            0.56               1   \n",
       "\n",
       "        deberta_score_2  deberta_label_4  deberta_score_4  \n",
       "0                  0.97                0             0.97  \n",
       "1                  0.97                0             0.97  \n",
       "2                  0.83                0             0.74  \n",
       "3                  0.82                0             0.80  \n",
       "4                  0.95                1             0.96  \n",
       "...                 ...              ...              ...  \n",
       "306535             0.96                0             0.97  \n",
       "306536             0.52                1             0.65  \n",
       "306537             0.98                0             0.98  \n",
       "306538             0.98                0             0.98  \n",
       "306539             0.57                0             0.86  \n",
       "\n",
       "[306540 rows x 33 columns]"
      ]
     },
     "execution_count": 4,
     "metadata": {},
     "output_type": "execute_result"
    }
   ],
   "source": [
    "features = pd.read_parquet(\"denis_features2.parquet\")\n",
    "features"
   ]
  },
  {
   "cell_type": "code",
   "execution_count": 5,
   "metadata": {},
   "outputs": [
    {
     "data": {
      "text/plain": [
       "(306540, 33)"
      ]
     },
     "execution_count": 5,
     "metadata": {},
     "output_type": "execute_result"
    }
   ],
   "source": [
    "features.shape"
   ]
  },
  {
   "cell_type": "code",
   "execution_count": 6,
   "metadata": {},
   "outputs": [
    {
     "ename": "KeyError",
     "evalue": "'characteristic_attributes_mappin8g1'",
     "output_type": "error",
     "traceback": [
      "\u001b[0;31m---------------------------------------------------------------------------\u001b[0m",
      "\u001b[0;31mKeyError\u001b[0m                                  Traceback (most recent call last)",
      "File \u001b[0;32m~/miniconda3/envs/python3.10/lib/python3.10/site-packages/pandas/core/indexes/base.py:3652\u001b[0m, in \u001b[0;36mIndex.get_loc\u001b[0;34m(self, key)\u001b[0m\n\u001b[1;32m   3651\u001b[0m \u001b[38;5;28;01mtry\u001b[39;00m:\n\u001b[0;32m-> 3652\u001b[0m     \u001b[38;5;28;01mreturn\u001b[39;00m \u001b[38;5;28;43mself\u001b[39;49m\u001b[38;5;241;43m.\u001b[39;49m\u001b[43m_engine\u001b[49m\u001b[38;5;241;43m.\u001b[39;49m\u001b[43mget_loc\u001b[49m\u001b[43m(\u001b[49m\u001b[43mcasted_key\u001b[49m\u001b[43m)\u001b[49m\n\u001b[1;32m   3653\u001b[0m \u001b[38;5;28;01mexcept\u001b[39;00m \u001b[38;5;167;01mKeyError\u001b[39;00m \u001b[38;5;28;01mas\u001b[39;00m err:\n",
      "File \u001b[0;32m~/miniconda3/envs/python3.10/lib/python3.10/site-packages/pandas/_libs/index.pyx:147\u001b[0m, in \u001b[0;36mpandas._libs.index.IndexEngine.get_loc\u001b[0;34m()\u001b[0m\n",
      "File \u001b[0;32m~/miniconda3/envs/python3.10/lib/python3.10/site-packages/pandas/_libs/index.pyx:176\u001b[0m, in \u001b[0;36mpandas._libs.index.IndexEngine.get_loc\u001b[0;34m()\u001b[0m\n",
      "File \u001b[0;32mpandas/_libs/hashtable_class_helper.pxi:7080\u001b[0m, in \u001b[0;36mpandas._libs.hashtable.PyObjectHashTable.get_item\u001b[0;34m()\u001b[0m\n",
      "File \u001b[0;32mpandas/_libs/hashtable_class_helper.pxi:7088\u001b[0m, in \u001b[0;36mpandas._libs.hashtable.PyObjectHashTable.get_item\u001b[0;34m()\u001b[0m\n",
      "\u001b[0;31mKeyError\u001b[0m: 'characteristic_attributes_mappin8g1'",
      "\nThe above exception was the direct cause of the following exception:\n",
      "\u001b[0;31mKeyError\u001b[0m                                  Traceback (most recent call last)",
      "Cell \u001b[0;32mIn[6], line 3\u001b[0m\n\u001b[1;32m      1\u001b[0m \u001b[38;5;28;01mfrom\u001b[39;00m \u001b[38;5;21;01mcollections\u001b[39;00m \u001b[38;5;28;01mimport\u001b[39;00m Counter\n\u001b[1;32m      2\u001b[0m \u001b[38;5;66;03m# Сделал на трейне, хотя так лучше делать, но мало времени уже\u001b[39;00m\n\u001b[0;32m----> 3\u001b[0m features[\u001b[38;5;124m\"\u001b[39m\u001b[38;5;124mjson1\u001b[39m\u001b[38;5;124m\"\u001b[39m] \u001b[38;5;241m=\u001b[39m \u001b[43mfeatures\u001b[49m\u001b[43m[\u001b[49m\u001b[38;5;124;43m\"\u001b[39;49m\u001b[38;5;124;43mcharacteristic_attributes_mappin8g1\u001b[39;49m\u001b[38;5;124;43m\"\u001b[39;49m\u001b[43m]\u001b[49m\u001b[38;5;241m.\u001b[39mapply(\n\u001b[1;32m      4\u001b[0m     \u001b[38;5;28;01mlambda\u001b[39;00m x: json\u001b[38;5;241m.\u001b[39mloads(x) \u001b[38;5;28;01mif\u001b[39;00m x \u001b[38;5;129;01mis\u001b[39;00m \u001b[38;5;129;01mnot\u001b[39;00m \u001b[38;5;28;01mNone\u001b[39;00m \u001b[38;5;28;01melse\u001b[39;00m \u001b[38;5;28;01mNone\u001b[39;00m)\n\u001b[1;32m      5\u001b[0m features[\u001b[38;5;124m\"\u001b[39m\u001b[38;5;124mjson2\u001b[39m\u001b[38;5;124m\"\u001b[39m] \u001b[38;5;241m=\u001b[39m features[\u001b[38;5;124m\"\u001b[39m\u001b[38;5;124mcharacteristic_attributes_mapping2\u001b[39m\u001b[38;5;124m\"\u001b[39m]\u001b[38;5;241m.\u001b[39mapply(\n\u001b[1;32m      6\u001b[0m     \u001b[38;5;28;01mlambda\u001b[39;00m x: json\u001b[38;5;241m.\u001b[39mloads(x) \u001b[38;5;28;01mif\u001b[39;00m x \u001b[38;5;129;01mis\u001b[39;00m \u001b[38;5;129;01mnot\u001b[39;00m \u001b[38;5;28;01mNone\u001b[39;00m \u001b[38;5;28;01melse\u001b[39;00m \u001b[38;5;28;01mNone\u001b[39;00m)\n",
      "File \u001b[0;32m~/miniconda3/envs/python3.10/lib/python3.10/site-packages/pandas/core/frame.py:3761\u001b[0m, in \u001b[0;36mDataFrame.__getitem__\u001b[0;34m(self, key)\u001b[0m\n\u001b[1;32m   3759\u001b[0m \u001b[38;5;28;01mif\u001b[39;00m \u001b[38;5;28mself\u001b[39m\u001b[38;5;241m.\u001b[39mcolumns\u001b[38;5;241m.\u001b[39mnlevels \u001b[38;5;241m>\u001b[39m \u001b[38;5;241m1\u001b[39m:\n\u001b[1;32m   3760\u001b[0m     \u001b[38;5;28;01mreturn\u001b[39;00m \u001b[38;5;28mself\u001b[39m\u001b[38;5;241m.\u001b[39m_getitem_multilevel(key)\n\u001b[0;32m-> 3761\u001b[0m indexer \u001b[38;5;241m=\u001b[39m \u001b[38;5;28;43mself\u001b[39;49m\u001b[38;5;241;43m.\u001b[39;49m\u001b[43mcolumns\u001b[49m\u001b[38;5;241;43m.\u001b[39;49m\u001b[43mget_loc\u001b[49m\u001b[43m(\u001b[49m\u001b[43mkey\u001b[49m\u001b[43m)\u001b[49m\n\u001b[1;32m   3762\u001b[0m \u001b[38;5;28;01mif\u001b[39;00m is_integer(indexer):\n\u001b[1;32m   3763\u001b[0m     indexer \u001b[38;5;241m=\u001b[39m [indexer]\n",
      "File \u001b[0;32m~/miniconda3/envs/python3.10/lib/python3.10/site-packages/pandas/core/indexes/base.py:3654\u001b[0m, in \u001b[0;36mIndex.get_loc\u001b[0;34m(self, key)\u001b[0m\n\u001b[1;32m   3652\u001b[0m     \u001b[38;5;28;01mreturn\u001b[39;00m \u001b[38;5;28mself\u001b[39m\u001b[38;5;241m.\u001b[39m_engine\u001b[38;5;241m.\u001b[39mget_loc(casted_key)\n\u001b[1;32m   3653\u001b[0m \u001b[38;5;28;01mexcept\u001b[39;00m \u001b[38;5;167;01mKeyError\u001b[39;00m \u001b[38;5;28;01mas\u001b[39;00m err:\n\u001b[0;32m-> 3654\u001b[0m     \u001b[38;5;28;01mraise\u001b[39;00m \u001b[38;5;167;01mKeyError\u001b[39;00m(key) \u001b[38;5;28;01mfrom\u001b[39;00m \u001b[38;5;21;01merr\u001b[39;00m\n\u001b[1;32m   3655\u001b[0m \u001b[38;5;28;01mexcept\u001b[39;00m \u001b[38;5;167;01mTypeError\u001b[39;00m:\n\u001b[1;32m   3656\u001b[0m     \u001b[38;5;66;03m# If we have a listlike key, _check_indexing_error will raise\u001b[39;00m\n\u001b[1;32m   3657\u001b[0m     \u001b[38;5;66;03m#  InvalidIndexError. Otherwise we fall through and re-raise\u001b[39;00m\n\u001b[1;32m   3658\u001b[0m     \u001b[38;5;66;03m#  the TypeError.\u001b[39;00m\n\u001b[1;32m   3659\u001b[0m     \u001b[38;5;28mself\u001b[39m\u001b[38;5;241m.\u001b[39m_check_indexing_error(key)\n",
      "\u001b[0;31mKeyError\u001b[0m: 'characteristic_attributes_mappin8g1'"
     ]
    }
   ],
   "source": [
    "from collections import Counter\n",
    "# Сделал на трейне, хотя так лучше делать, но мало времени уже\n",
    "features[\"json1\"] = features[\"characteristic_attributes_mappin8g1\"].apply(\n",
    "    lambda x: json.loads(x) if x is not None else None)\n",
    "features[\"json2\"] = features[\"characteristic_attributes_mapping2\"].apply(\n",
    "    lambda x: json.loads(x) if x is not None else None)"
   ]
  },
  {
   "cell_type": "code",
   "execution_count": null,
   "metadata": {},
   "outputs": [],
   "source": [
    "from pandas import json_normalize"
   ]
  },
  {
   "cell_type": "code",
   "execution_count": null,
   "metadata": {},
   "outputs": [],
   "source": [
    "key_counter = Counter()\n",
    "for col in (\"json1\", \"json2\"):\n",
    "    for d in features[col].values:\n",
    "        if type(d) is not dict:\n",
    "            continue\n",
    "        for k in d.keys():\n",
    "            key_counter[k] += 1\n",
    "            \n",
    "popular_characteristics = {k[0] for k in key_counter.most_common(100)}"
   ]
  },
  {
   "cell_type": "code",
   "execution_count": null,
   "metadata": {},
   "outputs": [],
   "source": [
    "key_counter = {k: v for k, v in key_counter.items() if k in popular_characteristics}"
   ]
  },
  {
   "cell_type": "code",
   "execution_count": null,
   "metadata": {},
   "outputs": [],
   "source": [
    "for col in key_counter:\n",
    "    features[col + \"_1\"] = \"\"\n",
    "    features[col + \"_2\"] = \"\""
   ]
  },
  {
   "cell_type": "code",
   "execution_count": null,
   "metadata": {},
   "outputs": [],
   "source": [
    "key_dict_1 = {k: list() for k in key_counter}\n",
    "for d in features[\"json1\"].values:\n",
    "    for k in key_dict_1:\n",
    "        if type(d) != dict:\n",
    "            key_dict_1[k].append(\"\")\n",
    "        elif k in d:\n",
    "            key_dict_1[k].append(d[k])\n",
    "        else:\n",
    "            key_dict_1[k].append(\"\")\n",
    "for k, v in key_dict_1.items():\n",
    "    features[k + \"_1\"] = [\"; \".join(l) for l in v]"
   ]
  },
  {
   "cell_type": "code",
   "execution_count": null,
   "metadata": {},
   "outputs": [],
   "source": [
    "key_dict_2 = {k: list() for k in key_counter}\n",
    "for d in features[\"json2\"].values:\n",
    "    for k in key_dict_2:\n",
    "        if type(d) != dict:\n",
    "            key_dict_2[k].append(\"\")\n",
    "        elif k in d:\n",
    "            key_dict_2[k].append(d[k])\n",
    "        else:\n",
    "            key_dict_2[k].append(\"\")\n",
    "for k, v in key_dict_2.items():\n",
    "    features[k + \"_2\"] = [\"; \".join(l) for l in v]"
   ]
  },
  {
   "cell_type": "code",
   "execution_count": null,
   "metadata": {},
   "outputs": [],
   "source": [
    "features[features[\"Тип_1\"] != features[\"Тип_2\"]]"
   ]
  },
  {
   "cell_type": "code",
   "execution_count": null,
   "metadata": {},
   "outputs": [],
   "source": [
    "import py_stringmatching as sm"
   ]
  },
  {
   "cell_type": "code",
   "execution_count": null,
   "metadata": {},
   "outputs": [],
   "source": [
    "from py_stringmatching import QgramTokenizer"
   ]
  },
  {
   "cell_type": "code",
   "execution_count": null,
   "metadata": {},
   "outputs": [],
   "source": [
    "def Levenshtein_distance(x, y):\n",
    "    return sm.Levenshtein().get_sim_score(x, y)\n",
    "\n",
    "features['Levenshtein_distance'] = features.apply(lambda row: Levenshtein_distance(row['name1'], row['name2']), axis=1)"
   ]
  },
  {
   "cell_type": "code",
   "execution_count": null,
   "metadata": {},
   "outputs": [],
   "source": [
    "qg2_tok = QgramTokenizer(qval=2, return_set=True)\n",
    "\n",
    "def Jaccard_distance(x, y):\n",
    "    x_tokens = qg2_tok.tokenize(x)\n",
    "    y_tokens = qg2_tok.tokenize(y)\n",
    "    return sm.Jaccard().get_sim_score(x_tokens, y_tokens)\n",
    "\n",
    "features['Jaccard_distance'] = features.apply(lambda row: Jaccard_distance(row['name1'], row['name2']), axis=1)"
   ]
  },
  {
   "cell_type": "code",
   "execution_count": null,
   "metadata": {},
   "outputs": [],
   "source": [
    "features['Levenshtein_distance_types'] = features.apply(\n",
    "    lambda row: Levenshtein_distance(str(row['Тип_1']), str(row['Тип_2'])), axis=1)\n",
    "features['Levenshtein_distance_brands'] = features.apply(\n",
    "    lambda row: Levenshtein_distance(str(row['Бренд_1']), str(row['Бренд_2'])), axis=1)"
   ]
  },
  {
   "cell_type": "code",
   "execution_count": null,
   "metadata": {},
   "outputs": [],
   "source": [
    "features['Jaccard_distance_types'] = features.apply(\n",
    "    lambda row: Jaccard_distance(row['Тип_1'], row['Тип_2']), axis=1)\n",
    "features['Jaccard_distance_brands'] = features.apply(\n",
    "    lambda row: Jaccard_distance(row['Бренд_1'], row['Бренд_2']), axis=1)"
   ]
  },
  {
   "cell_type": "markdown",
   "metadata": {},
   "source": [
    "### Metric"
   ]
  },
  {
   "cell_type": "code",
   "execution_count": null,
   "metadata": {
    "ExecuteTime": {
     "end_time": "2023-05-19T06:30:10.884083Z",
     "start_time": "2023-05-19T06:30:10.873141Z"
    },
    "code_folding": []
   },
   "outputs": [],
   "source": [
    "import numpy as np\n",
    "from sklearn.metrics import precision_recall_curve, auc\n",
    "\n",
    "\n",
    "def pr_auc_macro(\n",
    "    target_df: pd.DataFrame,\n",
    "    predictions_df: pd.DataFrame,\n",
    "    prec_level: float = 0.75,\n",
    "    cat_column: str = \"cat3_grouped\"\n",
    ") -> float:\n",
    "\n",
    "    df = target_df.merge(predictions_df, on=[\"variantid1\", \"variantid2\"])\n",
    "\n",
    "    y_true = df[\"target\"]\n",
    "    y_pred = df[\"scores\"]\n",
    "    categories = df[cat_column]\n",
    "\n",
    "    weights = []\n",
    "    pr_aucs = []\n",
    "\n",
    "    unique_cats, counts = np.unique(categories, return_counts=True)\n",
    "\n",
    "    # calculate metric for each big category\n",
    "    for i, category in enumerate(unique_cats):\n",
    "        # take just a certain category\n",
    "        cat_idx = np.where(categories == category)[0]\n",
    "        y_pred_cat = y_pred[cat_idx]\n",
    "        y_true_cat = y_true[cat_idx]\n",
    "\n",
    "        # if there is no matches in the category then PRAUC=0\n",
    "        if sum(y_true_cat) == 0:\n",
    "            pr_aucs.append(0)\n",
    "            weights.append(counts[i] / len(categories))\n",
    "            continue\n",
    "        \n",
    "        # get coordinates (x, y) for (recall, precision) of PR-curve\n",
    "        y, x, _ = precision_recall_curve(y_true_cat, y_pred_cat)\n",
    "        \n",
    "        # reverse the lists so that x's are in ascending order (left to right)\n",
    "        y = y[::-1]\n",
    "        x = x[::-1]\n",
    "        \n",
    "        # get indices for x-coordinate (recall) where y-coordinate (precision) \n",
    "        # is higher than precision level (75% for our task)\n",
    "        good_idx = np.where(y >= prec_level)[0]\n",
    "        \n",
    "        # if there are more than one such x's (at least one is always there, \n",
    "        # it's x=0 (recall=0)) we get a grid from x=0, to the rightest x \n",
    "        # with acceptable precision\n",
    "        if len(good_idx) > 1:\n",
    "            gt_prec_level_idx = np.arange(0, good_idx[-1] + 1)\n",
    "        # if there is only one such x, then we have zeros in the top scores \n",
    "        # and the curve simply goes down sharply at x=0 and does not rise \n",
    "        # above the required precision: PRAUC=0\n",
    "        else:\n",
    "            pr_aucs.append(0)\n",
    "            weights.append(counts[i] / len(categories))\n",
    "            continue\n",
    "        \n",
    "        # calculate category weight anyway\n",
    "        weights.append(counts[i] / len(categories))\n",
    "        # calculate PRAUC for all points where the rightest x \n",
    "        # still has required precision \n",
    "        try:\n",
    "            pr_auc_prec_level = auc(x[gt_prec_level_idx], y[gt_prec_level_idx])\n",
    "            if not np.isnan(pr_auc_prec_level):\n",
    "                pr_aucs.append(pr_auc_prec_level)\n",
    "        except ValueError:\n",
    "            pr_aucs.append(0)\n",
    "            \n",
    "    return np.average(pr_aucs, weights=weights)"
   ]
  },
  {
   "cell_type": "markdown",
   "metadata": {},
   "source": [
    "Choose features"
   ]
  },
  {
   "cell_type": "code",
   "execution_count": null,
   "metadata": {
    "ExecuteTime": {
     "end_time": "2023-05-19T06:28:45.696151Z",
     "start_time": "2023-05-19T06:28:45.692484Z"
    }
   },
   "outputs": [],
   "source": [
    "feats = [\"pic_dist_0_perc\", \"pic_dist_25_perc\", \"pic_dist_50_perc\", \n",
    "         \"euclidean_name_bert_dist\", \"cosine_name_bert_dist\",\n",
    "        ]\n",
    "text_features = [\"name1\", \"name2\"]"
   ]
  },
  {
   "cell_type": "code",
   "execution_count": null,
   "metadata": {},
   "outputs": [],
   "source": [
    "feats += [\"Levenshtein_distance\", \n",
    "         \"Jaccard_distance\", 'Levenshtein_distance_types',\n",
    "          'Levenshtein_distance_brands', 'Jaccard_distance_types', 'Jaccard_distance_brands']"
   ]
  },
  {
   "cell_type": "code",
   "execution_count": null,
   "metadata": {},
   "outputs": [],
   "source": [
    "feats += ['deberta_label_0', 'deberta_score_0', 'deberta_label_1',\n",
    "       'deberta_score_1', 'deberta_label_2', 'deberta_score_2',\n",
    "       'deberta_label_4', 'deberta_score_4']"
   ]
  },
  {
   "cell_type": "code",
   "execution_count": null,
   "metadata": {},
   "outputs": [],
   "source": [
    "key_features = [k + \"_1\" for k in key_counter.keys()]\n",
    "key_features += [k + \"_2\" for k in key_counter.keys()]"
   ]
  },
  {
   "cell_type": "code",
   "execution_count": null,
   "metadata": {},
   "outputs": [],
   "source": [
    "text_features = [\"name1\", \"name2\"]"
   ]
  },
  {
   "cell_type": "code",
   "execution_count": null,
   "metadata": {},
   "outputs": [],
   "source": [
    "feats += key_features"
   ]
  },
  {
   "cell_type": "code",
   "execution_count": null,
   "metadata": {},
   "outputs": [],
   "source": [
    "feats += text_features"
   ]
  },
  {
   "cell_type": "code",
   "execution_count": null,
   "metadata": {},
   "outputs": [],
   "source": [
    "kfold = KFold(n_splits=5, shuffle=True, random_state=42)"
   ]
  },
  {
   "cell_type": "code",
   "execution_count": null,
   "metadata": {},
   "outputs": [],
   "source": [
    "splits = list(kfold.split(features))"
   ]
  },
  {
   "cell_type": "markdown",
   "metadata": {},
   "source": [
    "Split dataset"
   ]
  },
  {
   "cell_type": "code",
   "execution_count": null,
   "metadata": {},
   "outputs": [],
   "source": [
    "features[\"diff_variant_id\"] = features[\"variantid2\"] - features[\"variantid1\"]"
   ]
  },
  {
   "cell_type": "code",
   "execution_count": null,
   "metadata": {},
   "outputs": [],
   "source": [
    "import seaborn as sns\n",
    "sns.displot(data=features, x=\"diff_variant_id\", hue=\"target\", bins=20, height=5, aspect=6/4)"
   ]
  },
  {
   "cell_type": "code",
   "execution_count": null,
   "metadata": {},
   "outputs": [],
   "source": [
    "feats += [\"diff_variant_id\"]"
   ]
  },
  {
   "cell_type": "code",
   "execution_count": null,
   "metadata": {},
   "outputs": [],
   "source": [
    "features.to_parquet(\"denis_features_3.parquet\")"
   ]
  },
  {
   "cell_type": "code",
   "execution_count": null,
   "metadata": {
    "ExecuteTime": {
     "end_time": "2023-05-19T06:29:01.923278Z",
     "start_time": "2023-05-19T06:28:54.101554Z"
    }
   },
   "outputs": [],
   "source": [
    "catboost_params = {\n",
    "    'iterations': 100000,\n",
    "    'learning_rate': 0.01,\n",
    "    \"loss_function\": 'CrossEntropy',\n",
    "    'verbose': 100,\n",
    "    \"task_type\": \"GPU\",\n",
    "    \"devices\": '0',\n",
    "    'early_stopping_rounds': 50,\n",
    "    'random_seed': 42, \n",
    "    'depth': 6\n",
    "}\n",
    "\n",
    "pr_aucs = []\n",
    "\n",
    "models = []\n",
    "\n",
    "for split_i, split in enumerate(splits):\n",
    "    split_features = features.copy()\n",
    "    split_feats = feats.copy()\n",
    "    split_feats = [s for s in split_feats if \"deberta_\" not in s or (\"deberta_\" in s and str(split_i) in s)]\n",
    "    split_features = split_features[split_feats + [\"target\", \"variantid1\", \"variantid2\", \"cat3_grouped\"]]\n",
    "    X_train = split_features.iloc[split[0]]\n",
    "    X_test = split_features.iloc[split[1]]\n",
    "    X_train, X_val = train_test_split(\n",
    "        X_train, \n",
    "        test_size=0.1, random_state=42,\n",
    "    #     stratify=X_train[[\"target\", \"cat3_grouped\"]]\n",
    "    )\n",
    "\n",
    "#     X_train.to_parquet(f\"/root/fold_{split_i}_train.parquet\")\n",
    "#     X_test.to_parquet(f\"/root/fold_{split_i}_test.parquet\")\n",
    "#     X_val.to_parquet(f\"/root/fold_{split_i}_val.parquet\")\n",
    "\n",
    "    y_test = X_test[[\"target\", \"variantid1\", \"variantid2\"]]\n",
    "    X_test = X_test.drop([\"target\"], axis=1)\n",
    "\n",
    "    y_train = X_train[\"target\"]\n",
    "    y_val = X_val[\"target\"]\n",
    "\n",
    "    X_train = X_train.drop([\"target\"], axis=1)\n",
    "    X_val = X_val.drop([\"target\"], axis=1)\n",
    "\n",
    "    #split_feats = [f for f in split_feats if f not in  (\"target\")]\n",
    "    train_pool = Pool(\n",
    "        data=X_train[split_feats],\n",
    "        label=y_train,\n",
    "        text_features = text_features,\n",
    "        cat_features=key_features\n",
    "    )\n",
    "    eval_pool = Pool(\n",
    "        data=X_val[split_feats],\n",
    "        label=y_val,\n",
    "        text_features = text_features,\n",
    "        cat_features=key_features\n",
    "    )\n",
    "    model = CatBoostClassifier(**catboost_params)\n",
    "\n",
    "    model.fit(\n",
    "        train_pool,\n",
    "        eval_set=eval_pool,\n",
    "        plot=True,\n",
    "        verbose=True,\n",
    "        use_best_model=True,\n",
    "        early_stopping_rounds=50,\n",
    "        metric_period=100\n",
    "    )\n",
    "    model.save_model(f\"baseline_denis_3{split_i}.cbm\")\n",
    "    models.append(model)\n",
    "    \n",
    "    \n",
    "    X_test[\"scores\"] = model.predict_proba(X_test[split_feats])[:, 1]\n",
    "    pr_auc_macro_metr = pr_auc_macro(\n",
    "        target_df=y_test, \n",
    "        predictions_df=X_test,\n",
    "        prec_level=0.75,\n",
    "        cat_column=\"cat3_grouped\"\n",
    "    )\n",
    "    \n",
    "    print(dict(zip(model.feature_names_, model.feature_importances_)))\n",
    "    print(f\"pr_auc_macro_metr: {split_i}\", pr_auc_macro_metr)\n",
    "    \n",
    "    precision, recall, thrs = precision_recall_curve(y_test[\"target\"], X_test[\"scores\"])\n",
    "    pr_auc = auc(recall, precision)\n",
    "    pr_aucs.append(pr_auc)\n",
    "    fig, ax1 = plt.subplots(1, figsize=(15, 7))\n",
    "\n",
    "    ax1.plot(recall, precision)\n",
    "    ax1.axhline(y=0.75, color='grey', linestyle='-');"
   ]
  },
  {
   "cell_type": "markdown",
   "metadata": {},
   "source": [
    "### Submission"
   ]
  },
  {
   "cell_type": "code",
   "execution_count": null,
   "metadata": {
    "ExecuteTime": {
     "end_time": "2023-05-19T06:31:32.836414Z",
     "start_time": "2023-05-19T06:31:31.181747Z"
    }
   },
   "outputs": [],
   "source": [
    "test_pairs = pd.read_parquet(\"hackathon_files_for_participants_ozon/test_pairs_wo_target.parquet\")\n",
    "test_etl = pd.read_parquet(\"hackathon_files_for_participants_ozon/test_data.parquet\")"
   ]
  },
  {
   "cell_type": "markdown",
   "metadata": {},
   "source": [
    "Generate the same features as for train"
   ]
  },
  {
   "cell_type": "code",
   "execution_count": null,
   "metadata": {
    "ExecuteTime": {
     "end_time": "2023-05-19T06:31:44.061466Z",
     "start_time": "2023-05-19T06:31:44.008543Z"
    }
   },
   "outputs": [],
   "source": [
    "test_features = (\n",
    "    test_pairs\n",
    "    .merge(\n",
    "        test_etl\n",
    "        .add_suffix('1'),\n",
    "        on=\"variantid1\"\n",
    "    )\n",
    "    .merge(\n",
    "        test_etl\n",
    "        .add_suffix('2'),\n",
    "        on=\"variantid2\"\n",
    "    )\n",
    ")"
   ]
  },
  {
   "cell_type": "code",
   "execution_count": null,
   "metadata": {
    "ExecuteTime": {
     "end_time": "2023-05-19T06:32:25.287137Z",
     "start_time": "2023-05-19T06:32:10.342926Z"
    }
   },
   "outputs": [],
   "source": [
    "test_features[[\"pic_dist_0_perc\", \"pic_dist_25_perc\", \"pic_dist_50_perc\"]] = (\n",
    "    test_features[[\"main_pic_embeddings_resnet_v11\", \"main_pic_embeddings_resnet_v12\"]].apply(\n",
    "        lambda x: pd.Series(get_pic_features_func(*x)), axis=1\n",
    "    )\n",
    ")\n",
    "\n",
    "test_features[[\"euclidean_name_bert_dist\", \"cosine_name_bert_dist\"]] = (\n",
    "    test_features[[\"name_bert_641\", \"name_bert_642\"]].apply(\n",
    "        lambda x: pd.Series(text_dense_distances(*x)), axis=1\n",
    "    )\n",
    ")"
   ]
  },
  {
   "cell_type": "code",
   "execution_count": null,
   "metadata": {
    "ExecuteTime": {
     "end_time": "2023-05-19T06:32:34.415102Z",
     "start_time": "2023-05-19T06:32:34.354763Z"
    }
   },
   "outputs": [],
   "source": [
    "test_features[\"cat3\"] = test_features[\"categories1\"].apply(lambda x: json.loads(x)[\"3\"])"
   ]
  },
  {
   "cell_type": "code",
   "execution_count": null,
   "metadata": {
    "ExecuteTime": {
     "end_time": "2023-05-19T06:32:37.601571Z",
     "start_time": "2023-05-19T06:32:37.596721Z"
    }
   },
   "outputs": [],
   "source": [
    "test_features.shape"
   ]
  },
  {
   "cell_type": "code",
   "execution_count": null,
   "metadata": {
    "ExecuteTime": {
     "end_time": "2023-05-19T06:32:40.679595Z",
     "start_time": "2023-05-19T06:32:40.668656Z"
    }
   },
   "outputs": [],
   "source": [
    "test_cat3_counts = test_features[\"cat3\"].value_counts().to_dict()\n",
    "\n",
    "cntr = 0\n",
    "for cat3 in test_cat3_counts:\n",
    "    if test_cat3_counts[cat3] < 50:\n",
    "        cntr += test_cat3_counts[cat3]\n",
    "        \n",
    "cntr"
   ]
  },
  {
   "cell_type": "code",
   "execution_count": null,
   "metadata": {
    "ExecuteTime": {
     "end_time": "2023-05-19T06:34:07.170273Z",
     "start_time": "2023-05-19T06:34:07.157474Z"
    }
   },
   "outputs": [],
   "source": [
    "test_features[\"cat3_grouped\"] = test_features[\"cat3\"].apply(lambda x: x if test_cat3_counts[x] > 50 else \"rest\")\n",
    "# btw you can rename to `rest` the same categories that were assigned to this group in train"
   ]
  },
  {
   "cell_type": "code",
   "execution_count": null,
   "metadata": {},
   "outputs": [],
   "source": [
    "test_features[\"text\"] = test_features[\"name1\"] + \"[SEP]\" + test_features[\"name2\"]"
   ]
  },
  {
   "cell_type": "code",
   "execution_count": null,
   "metadata": {},
   "outputs": [],
   "source": [
    "%%time\n",
    "for i in range(5):\n",
    "    print(i)\n",
    "    # the model for the 3rd fold sucks\n",
    "    # no time to retrain\n",
    "    if i == 3:\n",
    "        continue\n",
    "    pipe = pipeline(\"text-classification\", f\"/predefined_classes_best_{i}\", device=0, batch_size=32)\n",
    "\n",
    "\n",
    "    pipe_preds = pipe(list(test_features[\"text\"].values), padding=\"longest\", max_length=256, truncation=True)\n",
    "\n",
    "    test_features[f\"deberta_label_{i}\"] = [p[\"label\"] for p in pipe_preds]\n",
    "    test_features[f\"deberta_score_{i}\"] = [round(p[\"score\"], 2) for p in pipe_preds]\n",
    "\n",
    "    test_features.to_parquet(\"denis_test_features.parquet\")\n",
    "\n",
    "    feats += [f\"deberta_label_{i}\", f\"deberta_score_{i}\"]\n",
    "    \n",
    "    del pipe\n",
    "    torch.cuda.empty_cache()\n",
    "    gc.collect()"
   ]
  },
  {
   "cell_type": "code",
   "execution_count": null,
   "metadata": {},
   "outputs": [],
   "source": [
    "test_features[\"diff_variant_id\"] = test_features[\"variantid2\"] - test_features[\"variantid1\"]"
   ]
  },
  {
   "cell_type": "code",
   "execution_count": null,
   "metadata": {
    "ExecuteTime": {
     "end_time": "2023-05-19T06:34:14.146730Z",
     "start_time": "2023-05-19T06:34:14.086525Z"
    }
   },
   "outputs": [],
   "source": [
    "for split_i, split in enumerate(splits):\n",
    "    submission_example = test_features.copy()\n",
    "    split_feats = feats.copy()\n",
    "    split_feats = [s for s in split_feats if \"deberta_\" not in s or (\"deberta_\" in s and str(split_i) in s)]\n",
    "    submission_example = submission_example[split_feats + [\"variantid1\", \"variantid2\", \"cat3_grouped\"]]\n",
    "    test_features[f\"target_{split_i}\"] = models[split_i].predict_proba(submission_example[split_feats])[:, 1]"
   ]
  },
  {
   "cell_type": "code",
   "execution_count": null,
   "metadata": {},
   "outputs": [],
   "source": [
    "((test_features[\"target_0\"] +\n",
    " test_features[\"target_1\"] +\n",
    " test_features[\"target_2\"] +\n",
    "#  test_features[\"target_3\"] +\n",
    " test_features[\"target_4\"]) / 4).sum()"
   ]
  },
  {
   "cell_type": "code",
   "execution_count": null,
   "metadata": {},
   "outputs": [],
   "source": [
    "# submission_example[\"target\"] = \n",
    "((test_features[\"target_0\"] +\n",
    " test_features[\"target_1\"] +\n",
    " test_features[\"target_2\"] +\n",
    " test_features[\"target_3\"] +\n",
    " test_features[\"target_4\"]) / 5).sum()"
   ]
  },
  {
   "cell_type": "code",
   "execution_count": null,
   "metadata": {},
   "outputs": [],
   "source": [
    "submission_example[\"target\"] = ((test_features[\"target_0\"] +\n",
    " test_features[\"target_1\"] +\n",
    " test_features[\"target_2\"] +\n",
    "#  test_features[\"target_3\"] +\n",
    " test_features[\"target_4\"]) / 4)"
   ]
  },
  {
   "cell_type": "code",
   "execution_count": null,
   "metadata": {
    "ExecuteTime": {
     "end_time": "2023-05-19T06:34:17.373009Z",
     "start_time": "2023-05-19T06:34:17.357230Z"
    }
   },
   "outputs": [],
   "source": [
    "submission_example = submission_example[[\"variantid1\", \"variantid2\", \"target\"]]"
   ]
  },
  {
   "cell_type": "code",
   "execution_count": null,
   "metadata": {
    "ExecuteTime": {
     "end_time": "2023-05-19T06:35:41.877989Z",
     "start_time": "2023-05-19T06:35:41.794727Z"
    }
   },
   "outputs": [],
   "source": [
    "submission_example.drop_duplicates().merge(\n",
    "    test_features[[\"variantid1\", \"variantid2\"]].drop_duplicates([\"variantid1\", \"variantid2\"]),\n",
    "    on=[\"variantid1\", \"variantid2\"]\n",
    ").to_csv(\"submission_example.csv\", index=False)"
   ]
  },
  {
   "cell_type": "markdown",
   "metadata": {},
   "source": [
    "Upload your submission to leaderboard :)"
   ]
  },
  {
   "cell_type": "markdown",
   "metadata": {},
   "source": [
    "### Recommendations \n",
    "\n",
    "- Work with names, in electronics names often contain a lot of useful information for matching.\n",
    "- Don't forget about attributes: working with it will allow your model to better distinguish matches from non-matches."
   ]
  },
  {
   "cell_type": "code",
   "execution_count": null,
   "metadata": {},
   "outputs": [],
   "source": [
    "test_features[\"target\"] = submission_example[\"target\"]"
   ]
  },
  {
   "cell_type": "code",
   "execution_count": null,
   "metadata": {},
   "outputs": [],
   "source": [
    "test_features[test_features[\"name1\"] != test_features[\"name2\"]]"
   ]
  }
 ],
 "metadata": {
  "kernelspec": {
   "display_name": "Python 3 (ipykernel)",
   "language": "python",
   "name": "python3"
  },
  "language_info": {
   "codemirror_mode": {
    "name": "ipython",
    "version": 3
   },
   "file_extension": ".py",
   "mimetype": "text/x-python",
   "name": "python",
   "nbconvert_exporter": "python",
   "pygments_lexer": "ipython3",
   "version": "3.10.11"
  }
 },
 "nbformat": 4,
 "nbformat_minor": 4
}
